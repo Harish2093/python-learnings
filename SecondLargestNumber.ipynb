{
 "cells": [
  {
   "cell_type": "code",
   "execution_count": 18,
   "id": "0a912f8b",
   "metadata": {},
   "outputs": [],
   "source": [
    "a = [1,1, 1, 4, 2, 3, 6, 7]"
   ]
  },
  {
   "cell_type": "code",
   "execution_count": 3,
   "id": "18d8114f",
   "metadata": {},
   "outputs": [],
   "source": [
    "secondhigh = a[0]"
   ]
  },
  {
   "cell_type": "code",
   "execution_count": 4,
   "id": "e5086c30",
   "metadata": {},
   "outputs": [
    {
     "data": {
      "text/plain": [
       "1"
      ]
     },
     "execution_count": 4,
     "metadata": {},
     "output_type": "execute_result"
    }
   ],
   "source": [
    "secondhigh"
   ]
  },
  {
   "cell_type": "code",
   "execution_count": 31,
   "id": "feb23070",
   "metadata": {},
   "outputs": [],
   "source": [
    "for each in set(a):\n",
    "    lower_counts = 0\n",
    "    upper_countss = 0\n",
    "    for again_each in set(a):\n",
    "        if again_each < each:\n",
    "            lower_counts += 1\n",
    "        elif again_each > each:\n",
    "            upper_countss += 1\n",
    "    if lower_counts == len(set(a))-1 and upper_countss == 1:\n",
    "        print(\"breaking at: \", each)\n",
    "        break"
   ]
  },
  {
   "cell_type": "code",
   "execution_count": 16,
   "id": "0c6cb5e0",
   "metadata": {},
   "outputs": [
    {
     "data": {
      "text/plain": [
       "7"
      ]
     },
     "execution_count": 16,
     "metadata": {},
     "output_type": "execute_result"
    }
   ],
   "source": [
    "again_each"
   ]
  },
  {
   "cell_type": "code",
   "execution_count": 19,
   "id": "b167d148",
   "metadata": {},
   "outputs": [
    {
     "data": {
      "text/plain": [
       "[1, 1, 1, 2, 3, 4, 6, 7]"
      ]
     },
     "execution_count": 19,
     "metadata": {},
     "output_type": "execute_result"
    }
   ],
   "source": [
    "sorted(a)"
   ]
  }
 ],
 "metadata": {
  "kernelspec": {
   "display_name": "Python 3",
   "language": "python",
   "name": "python3"
  },
  "language_info": {
   "codemirror_mode": {
    "name": "ipython",
    "version": 3
   },
   "file_extension": ".py",
   "mimetype": "text/x-python",
   "name": "python",
   "nbconvert_exporter": "python",
   "pygments_lexer": "ipython3",
   "version": "3.8.8"
  }
 },
 "nbformat": 4,
 "nbformat_minor": 5
}
